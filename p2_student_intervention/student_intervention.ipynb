{
 "cells": [
  {
   "cell_type": "markdown",
   "metadata": {},
   "source": [
    "# Machine Learning Engineer Nanodegree\n",
    "## Supervised Learning\n",
    "## Project 2: Building a Student Intervention System"
   ]
  },
  {
   "cell_type": "markdown",
   "metadata": {},
   "source": [
    "Welcome to the second project of the Machine Learning Engineer Nanodegree! In this notebook, some template code has already been provided for you, and it will be your job to implement the additional functionality necessary to successfully complete this project. Sections that begin with **'Implementation'** in the header indicate that the following block of code will require additional functionality which you must provide. Instructions will be provided for each section and the specifics of the implementation are marked in the code block with a `'TODO'` statement. Please be sure to read the instructions carefully!\n",
    "\n",
    "In addition to implementing code, there will be questions that you must answer which relate to the project and your implementation. Each section where you will answer a question is preceded by a **'Question X'** header. Carefully read each question and provide thorough answers in the following text boxes that begin with **'Answer:'**. Your project submission will be evaluated based on your answers to each of the questions and the implementation you provide.  \n",
    "\n",
    ">**Note:** Code and Markdown cells can be executed using the **Shift + Enter** keyboard shortcut. In addition, Markdown cells can be edited by typically double-clicking the cell to enter edit mode."
   ]
  },
  {
   "cell_type": "markdown",
   "metadata": {},
   "source": [
    "### Question 1 - Classification vs. Regression\n",
    "*Your goal for this project is to identify students who might need early intervention before they fail to graduate. Which type of supervised learning problem is this, classification or regression? Why?*"
   ]
  },
  {
   "cell_type": "markdown",
   "metadata": {},
   "source": [
    "**Answer: ** Given that we wish to place students into discrete categories (pass, fail), we would want to use a classification learning algorithm for this task. A regression algorithm, on the other hand, would be used for when we want to predict some value along a continuous scale, such as height, weight, score. "
   ]
  },
  {
   "cell_type": "markdown",
   "metadata": {},
   "source": [
    "## Exploring the Data\n",
    "Run the code cell below to load necessary Python libraries and load the student data. Note that the last column from this dataset, `'passed'`, will be our target label (whether the student graduated or didn't graduate). All other columns are features about each student."
   ]
  },
  {
   "cell_type": "code",
   "execution_count": 1,
   "metadata": {
    "collapsed": false
   },
   "outputs": [
    {
     "name": "stdout",
     "output_type": "stream",
     "text": [
      "Student data read successfully!\n"
     ]
    }
   ],
   "source": [
    "# Import libraries\n",
    "import numpy as np\n",
    "import pandas as pd\n",
    "from time import time\n",
    "from sklearn.metrics import f1_score\n",
    "\n",
    "# display DataFrames as HTML tables\n",
    "from IPython.display import display \n",
    "\n",
    "# Read student data\n",
    "student_data = pd.read_csv(\"student-data.csv\")\n",
    "print \"Student data read successfully!\""
   ]
  },
  {
   "cell_type": "markdown",
   "metadata": {},
   "source": [
    "### Implementation: Data Exploration\n",
    "Let's begin by investigating the dataset to determine how many students we have information on, and learn about the graduation rate among these students. In the code cell below, you will need to compute the following:\n",
    "- The total number of students, `n_students`.\n",
    "- The total number of features for each student, `n_features`.\n",
    "- The number of those students who passed, `n_passed`.\n",
    "- The number of those students who failed, `n_failed`.\n",
    "- The graduation rate of the class, `grad_rate`, in percent (%).\n"
   ]
  },
  {
   "cell_type": "code",
   "execution_count": 2,
   "metadata": {
    "collapsed": false
   },
   "outputs": [
    {
     "name": "stdout",
     "output_type": "stream",
     "text": [
      "Total number of students: 395\n",
      "Number of features: 31\n",
      "Number of students who passed: 265\n",
      "Number of students who failed: 130\n",
      "Graduation rate of the class: 67.09%\n"
     ]
    }
   ],
   "source": [
    "# Number of students\n",
    "n_students = student_data.shape[0]\n",
    "\n",
    "# Number of features\n",
    "n_features = student_data.shape[1]\n",
    "\n",
    "# Number of passing students\n",
    "n_passed = (student_data[\"passed\"] == \"yes\").sum()\n",
    "\n",
    "# Number of failing students\n",
    "n_failed = (student_data[\"passed\"] == \"no\").sum()\n",
    "\n",
    "# Graduation rate\n",
    "grad_rate = 100 * (n_passed / float(n_students))\n",
    "\n",
    "# Print the results\n",
    "print \"Total number of students: {}\".format(n_students)\n",
    "print \"Number of features: {}\".format(n_features)\n",
    "print \"Number of students who passed: {}\".format(n_passed)\n",
    "print \"Number of students who failed: {}\".format(n_failed)\n",
    "print \"Graduation rate of the class: {:.2f}%\".format(grad_rate)"
   ]
  },
  {
   "cell_type": "markdown",
   "metadata": {},
   "source": [
    "## Preparing the Data\n",
    "In this section, we will prepare the data for modeling, training and testing.\n",
    "\n",
    "### Identify feature and target columns\n",
    "It is often the case that the data you obtain contains non-numeric features. This can be a problem, as most machine learning algorithms expect numeric data to perform computations with.\n",
    "\n",
    "Run the code cell below to separate the student data into feature and target columns to see if any features are non-numeric."
   ]
  },
  {
   "cell_type": "code",
   "execution_count": 3,
   "metadata": {
    "collapsed": false
   },
   "outputs": [
    {
     "name": "stdout",
     "output_type": "stream",
     "text": [
      "FEATURE COLUMNS:\n",
      "school, sex, age, address, famsize, Pstatus, Medu, Fedu, Mjob, Fjob, reason, guardian, traveltime, studytime, failures, schoolsup, famsup, paid, activities, nursery, higher, internet, romantic, famrel, freetime, goout, Dalc, Walc, health, absences\n",
      "\n",
      "TARGET LABEL:\n",
      "passed\n",
      "\n",
      "FEATURE VALUES:\n"
     ]
    },
    {
     "data": {
      "text/html": [
       "<div>\n",
       "<table border=\"1\" class=\"dataframe\">\n",
       "  <thead>\n",
       "    <tr style=\"text-align: right;\">\n",
       "      <th></th>\n",
       "      <th>school</th>\n",
       "      <th>sex</th>\n",
       "      <th>age</th>\n",
       "      <th>address</th>\n",
       "      <th>famsize</th>\n",
       "      <th>Pstatus</th>\n",
       "      <th>Medu</th>\n",
       "      <th>Fedu</th>\n",
       "    </tr>\n",
       "  </thead>\n",
       "  <tbody>\n",
       "    <tr>\n",
       "      <th>0</th>\n",
       "      <td>GP</td>\n",
       "      <td>F</td>\n",
       "      <td>18</td>\n",
       "      <td>U</td>\n",
       "      <td>GT3</td>\n",
       "      <td>A</td>\n",
       "      <td>4</td>\n",
       "      <td>4</td>\n",
       "    </tr>\n",
       "    <tr>\n",
       "      <th>1</th>\n",
       "      <td>GP</td>\n",
       "      <td>F</td>\n",
       "      <td>17</td>\n",
       "      <td>U</td>\n",
       "      <td>GT3</td>\n",
       "      <td>T</td>\n",
       "      <td>1</td>\n",
       "      <td>1</td>\n",
       "    </tr>\n",
       "    <tr>\n",
       "      <th>2</th>\n",
       "      <td>GP</td>\n",
       "      <td>F</td>\n",
       "      <td>15</td>\n",
       "      <td>U</td>\n",
       "      <td>LE3</td>\n",
       "      <td>T</td>\n",
       "      <td>1</td>\n",
       "      <td>1</td>\n",
       "    </tr>\n",
       "    <tr>\n",
       "      <th>3</th>\n",
       "      <td>GP</td>\n",
       "      <td>F</td>\n",
       "      <td>15</td>\n",
       "      <td>U</td>\n",
       "      <td>GT3</td>\n",
       "      <td>T</td>\n",
       "      <td>4</td>\n",
       "      <td>2</td>\n",
       "    </tr>\n",
       "    <tr>\n",
       "      <th>4</th>\n",
       "      <td>GP</td>\n",
       "      <td>F</td>\n",
       "      <td>16</td>\n",
       "      <td>U</td>\n",
       "      <td>GT3</td>\n",
       "      <td>T</td>\n",
       "      <td>3</td>\n",
       "      <td>3</td>\n",
       "    </tr>\n",
       "  </tbody>\n",
       "</table>\n",
       "</div>"
      ],
      "text/plain": [
       "  school sex  age address famsize Pstatus  Medu  Fedu\n",
       "0     GP   F   18       U     GT3       A     4     4\n",
       "1     GP   F   17       U     GT3       T     1     1\n",
       "2     GP   F   15       U     LE3       T     1     1\n",
       "3     GP   F   15       U     GT3       T     4     2\n",
       "4     GP   F   16       U     GT3       T     3     3"
      ]
     },
     "metadata": {},
     "output_type": "display_data"
    },
    {
     "data": {
      "text/html": [
       "<div>\n",
       "<table border=\"1\" class=\"dataframe\">\n",
       "  <thead>\n",
       "    <tr style=\"text-align: right;\">\n",
       "      <th></th>\n",
       "      <th>Mjob</th>\n",
       "      <th>Fjob</th>\n",
       "      <th>reason</th>\n",
       "      <th>guardian</th>\n",
       "      <th>traveltime</th>\n",
       "      <th>studytime</th>\n",
       "      <th>failures</th>\n",
       "      <th>schoolsup</th>\n",
       "    </tr>\n",
       "  </thead>\n",
       "  <tbody>\n",
       "    <tr>\n",
       "      <th>0</th>\n",
       "      <td>at_home</td>\n",
       "      <td>teacher</td>\n",
       "      <td>course</td>\n",
       "      <td>mother</td>\n",
       "      <td>2</td>\n",
       "      <td>2</td>\n",
       "      <td>0</td>\n",
       "      <td>yes</td>\n",
       "    </tr>\n",
       "    <tr>\n",
       "      <th>1</th>\n",
       "      <td>at_home</td>\n",
       "      <td>other</td>\n",
       "      <td>course</td>\n",
       "      <td>father</td>\n",
       "      <td>1</td>\n",
       "      <td>2</td>\n",
       "      <td>0</td>\n",
       "      <td>no</td>\n",
       "    </tr>\n",
       "    <tr>\n",
       "      <th>2</th>\n",
       "      <td>at_home</td>\n",
       "      <td>other</td>\n",
       "      <td>other</td>\n",
       "      <td>mother</td>\n",
       "      <td>1</td>\n",
       "      <td>2</td>\n",
       "      <td>3</td>\n",
       "      <td>yes</td>\n",
       "    </tr>\n",
       "    <tr>\n",
       "      <th>3</th>\n",
       "      <td>health</td>\n",
       "      <td>services</td>\n",
       "      <td>home</td>\n",
       "      <td>mother</td>\n",
       "      <td>1</td>\n",
       "      <td>3</td>\n",
       "      <td>0</td>\n",
       "      <td>no</td>\n",
       "    </tr>\n",
       "    <tr>\n",
       "      <th>4</th>\n",
       "      <td>other</td>\n",
       "      <td>other</td>\n",
       "      <td>home</td>\n",
       "      <td>father</td>\n",
       "      <td>1</td>\n",
       "      <td>2</td>\n",
       "      <td>0</td>\n",
       "      <td>no</td>\n",
       "    </tr>\n",
       "  </tbody>\n",
       "</table>\n",
       "</div>"
      ],
      "text/plain": [
       "      Mjob      Fjob  reason guardian  traveltime  studytime  failures  \\\n",
       "0  at_home   teacher  course   mother           2          2         0   \n",
       "1  at_home     other  course   father           1          2         0   \n",
       "2  at_home     other   other   mother           1          2         3   \n",
       "3   health  services    home   mother           1          3         0   \n",
       "4    other     other    home   father           1          2         0   \n",
       "\n",
       "  schoolsup  \n",
       "0       yes  \n",
       "1        no  \n",
       "2       yes  \n",
       "3        no  \n",
       "4        no  "
      ]
     },
     "metadata": {},
     "output_type": "display_data"
    },
    {
     "data": {
      "text/html": [
       "<div>\n",
       "<table border=\"1\" class=\"dataframe\">\n",
       "  <thead>\n",
       "    <tr style=\"text-align: right;\">\n",
       "      <th></th>\n",
       "      <th>famsup</th>\n",
       "      <th>paid</th>\n",
       "      <th>activities</th>\n",
       "      <th>nursery</th>\n",
       "      <th>higher</th>\n",
       "      <th>internet</th>\n",
       "      <th>romantic</th>\n",
       "      <th>famrel</th>\n",
       "    </tr>\n",
       "  </thead>\n",
       "  <tbody>\n",
       "    <tr>\n",
       "      <th>0</th>\n",
       "      <td>no</td>\n",
       "      <td>no</td>\n",
       "      <td>no</td>\n",
       "      <td>yes</td>\n",
       "      <td>yes</td>\n",
       "      <td>no</td>\n",
       "      <td>no</td>\n",
       "      <td>4</td>\n",
       "    </tr>\n",
       "    <tr>\n",
       "      <th>1</th>\n",
       "      <td>yes</td>\n",
       "      <td>no</td>\n",
       "      <td>no</td>\n",
       "      <td>no</td>\n",
       "      <td>yes</td>\n",
       "      <td>yes</td>\n",
       "      <td>no</td>\n",
       "      <td>5</td>\n",
       "    </tr>\n",
       "    <tr>\n",
       "      <th>2</th>\n",
       "      <td>no</td>\n",
       "      <td>yes</td>\n",
       "      <td>no</td>\n",
       "      <td>yes</td>\n",
       "      <td>yes</td>\n",
       "      <td>yes</td>\n",
       "      <td>no</td>\n",
       "      <td>4</td>\n",
       "    </tr>\n",
       "    <tr>\n",
       "      <th>3</th>\n",
       "      <td>yes</td>\n",
       "      <td>yes</td>\n",
       "      <td>yes</td>\n",
       "      <td>yes</td>\n",
       "      <td>yes</td>\n",
       "      <td>yes</td>\n",
       "      <td>yes</td>\n",
       "      <td>3</td>\n",
       "    </tr>\n",
       "    <tr>\n",
       "      <th>4</th>\n",
       "      <td>yes</td>\n",
       "      <td>yes</td>\n",
       "      <td>no</td>\n",
       "      <td>yes</td>\n",
       "      <td>yes</td>\n",
       "      <td>no</td>\n",
       "      <td>no</td>\n",
       "      <td>4</td>\n",
       "    </tr>\n",
       "  </tbody>\n",
       "</table>\n",
       "</div>"
      ],
      "text/plain": [
       "  famsup paid activities nursery higher internet romantic  famrel\n",
       "0     no   no         no     yes    yes       no       no       4\n",
       "1    yes   no         no      no    yes      yes       no       5\n",
       "2     no  yes         no     yes    yes      yes       no       4\n",
       "3    yes  yes        yes     yes    yes      yes      yes       3\n",
       "4    yes  yes         no     yes    yes       no       no       4"
      ]
     },
     "metadata": {},
     "output_type": "display_data"
    },
    {
     "data": {
      "text/html": [
       "<div>\n",
       "<table border=\"1\" class=\"dataframe\">\n",
       "  <thead>\n",
       "    <tr style=\"text-align: right;\">\n",
       "      <th></th>\n",
       "      <th>freetime</th>\n",
       "      <th>goout</th>\n",
       "      <th>Dalc</th>\n",
       "      <th>Walc</th>\n",
       "      <th>health</th>\n",
       "      <th>absences</th>\n",
       "    </tr>\n",
       "  </thead>\n",
       "  <tbody>\n",
       "    <tr>\n",
       "      <th>0</th>\n",
       "      <td>3</td>\n",
       "      <td>4</td>\n",
       "      <td>1</td>\n",
       "      <td>1</td>\n",
       "      <td>3</td>\n",
       "      <td>6</td>\n",
       "    </tr>\n",
       "    <tr>\n",
       "      <th>1</th>\n",
       "      <td>3</td>\n",
       "      <td>3</td>\n",
       "      <td>1</td>\n",
       "      <td>1</td>\n",
       "      <td>3</td>\n",
       "      <td>4</td>\n",
       "    </tr>\n",
       "    <tr>\n",
       "      <th>2</th>\n",
       "      <td>3</td>\n",
       "      <td>2</td>\n",
       "      <td>2</td>\n",
       "      <td>3</td>\n",
       "      <td>3</td>\n",
       "      <td>10</td>\n",
       "    </tr>\n",
       "    <tr>\n",
       "      <th>3</th>\n",
       "      <td>2</td>\n",
       "      <td>2</td>\n",
       "      <td>1</td>\n",
       "      <td>1</td>\n",
       "      <td>5</td>\n",
       "      <td>2</td>\n",
       "    </tr>\n",
       "    <tr>\n",
       "      <th>4</th>\n",
       "      <td>3</td>\n",
       "      <td>2</td>\n",
       "      <td>1</td>\n",
       "      <td>2</td>\n",
       "      <td>5</td>\n",
       "      <td>4</td>\n",
       "    </tr>\n",
       "  </tbody>\n",
       "</table>\n",
       "</div>"
      ],
      "text/plain": [
       "   freetime  goout  Dalc  Walc  health  absences\n",
       "0         3      4     1     1       3         6\n",
       "1         3      3     1     1       3         4\n",
       "2         3      2     2     3       3        10\n",
       "3         2      2     1     1       5         2\n",
       "4         3      2     1     2       5         4"
      ]
     },
     "metadata": {},
     "output_type": "display_data"
    }
   ],
   "source": [
    "# Extract feature columns\n",
    "feature_cols = list(student_data.columns[:-1])\n",
    "\n",
    "# Extract target column 'passed'\n",
    "target_col = student_data.columns[-1] \n",
    "\n",
    "# Show the list of columns\n",
    "# print the feature and output label name\n",
    "print \"FEATURE COLUMNS:\\n{}\".format(\", \".join(feature_cols))\n",
    "print \"\\nTARGET LABEL:\\n{}\".format(target_col)\n",
    "\n",
    "# Separate the data into feature data and target data (X_all and y_all, respectively)\n",
    "X_all = student_data[feature_cols]\n",
    "y_all = student_data[target_col]\n",
    "\n",
    "# Display a sample of the first 5 rows of data. \n",
    "# Displayed 8 columns at a time to fit nicely on the page\n",
    "print \"\\nFEATURE VALUES:\"\n",
    "chunk_size = 8\n",
    "for i in range(chunk_size, len(feature_cols)+chunk_size, chunk_size):\n",
    "    chunk_features = feature_cols[i-chunk_size: i]\n",
    "    display(X_all[chunk_features].head())"
   ]
  },
  {
   "cell_type": "markdown",
   "metadata": {},
   "source": [
    "### Preprocess Feature Columns\n",
    "\n",
    "As you can see, there are several non-numeric columns that need to be converted! Many of them are simply `yes`/`no`, e.g. `internet`. These can be reasonably converted into `1`/`0` (binary) values.\n",
    "\n",
    "Other columns, like `Mjob` and `Fjob`, have more than two values, and are known as _categorical variables_. The recommended way to handle such a column is to create as many columns as possible values (e.g. `Fjob_teacher`, `Fjob_other`, `Fjob_services`, etc.), and assign a `1` to one of them and `0` to all others.\n",
    "\n",
    "These generated columns are sometimes called _dummy variables_, and we will use the [`pandas.get_dummies()`](http://pandas.pydata.org/pandas-docs/stable/generated/pandas.get_dummies.html?highlight=get_dummies#pandas.get_dummies) function to perform this transformation. Run the code cell below to perform the preprocessing routine discussed in this section."
   ]
  },
  {
   "cell_type": "code",
   "execution_count": 4,
   "metadata": {
    "collapsed": false
   },
   "outputs": [
    {
     "name": "stdout",
     "output_type": "stream",
     "text": [
      "Processed feature columns (48 total features):\n",
      "\n",
      "school_GP,   school_MS,   sex_F,   sex_M,   age,   address_R,   address_U,   famsize_GT3,   famsize_LE3,   Pstatus_A,   Pstatus_T,   Medu,   Fedu,   Mjob_at_home,   Mjob_health,   Mjob_other,   Mjob_services,   Mjob_teacher,   Fjob_at_home,   Fjob_health,   Fjob_other,   Fjob_services,   Fjob_teacher,   reason_course,   reason_home,   reason_other,   reason_reputation,   guardian_father,   guardian_mother,   guardian_other,   traveltime,   studytime,   failures,   schoolsup,   famsup,   paid,   activities,   nursery,   higher,   internet,   romantic,   famrel,   freetime,   goout,   Dalc,   Walc,   health,   absences\n"
     ]
    }
   ],
   "source": [
    "def preprocess_features(X):\n",
    "    ''' Preprocesses the student data and converts non-numeric binary variables \n",
    "    into binary (0/1) variables. Converts categorical variables into dummy \n",
    "    variables. '''\n",
    "    \n",
    "    # Initialize new output DataFrame\n",
    "    output = pd.DataFrame(index = X.index)\n",
    "\n",
    "    # Investigate each feature column for the data\n",
    "    for col, col_data in X.iteritems():\n",
    "        \n",
    "        # If data type is non-numeric, replace all yes/no values with 1/0\n",
    "        if col_data.dtype == object:\n",
    "            col_data = col_data.replace(['yes', 'no'], [1, 0])\n",
    "\n",
    "        # If data type is categorical, convert to dummy variables\n",
    "        if col_data.dtype == object:\n",
    "            # Example: 'school' => 'school_GP' and 'school_MS'\n",
    "            col_data = pd.get_dummies(col_data, prefix = col)  \n",
    "        \n",
    "        # Collect the revised columns\n",
    "        output = output.join(col_data)\n",
    "    \n",
    "    return output\n",
    "\n",
    "X_all = preprocess_features(X_all)\n",
    "print \"Processed feature columns ({} total features):\"\\\n",
    "      \"\\n\\n{}\".format(len(X_all.columns), \",   \".join(X_all.columns))"
   ]
  },
  {
   "cell_type": "markdown",
   "metadata": {},
   "source": [
    "### Implementation: Training and Testing Data Split\n",
    "So far, we have converted all _categorical_ features into numeric values. For the next step, we split the data (both features and corresponding labels) into training and test sets. In the following code cell below, you will need to implement the following:\n",
    "- Randomly shuffle and split the data (`X_all`, `y_all`) into training and testing subsets.\n",
    "  - Use 300 training points (approximately 75%) and 95 testing points (approximately 25%).\n",
    "  - Set a `random_state` for the function(s) you use, if provided.\n",
    "  - Store the results in `X_train`, `X_test`, `y_train`, and `y_test`."
   ]
  },
  {
   "cell_type": "code",
   "execution_count": 5,
   "metadata": {
    "collapsed": false
   },
   "outputs": [
    {
     "name": "stdout",
     "output_type": "stream",
     "text": [
      "Training set has 300 samples.\n",
      "Testing set has 95 samples.\n"
     ]
    }
   ],
   "source": [
    "from sklearn.cross_validation import train_test_split\n",
    "\n",
    "# Set the number of training points\n",
    "num_train = 300\n",
    "\n",
    "# Set the number of testing points\n",
    "num_test = X_all.shape[0] - num_train\n",
    "\n",
    "# Shuffle and split the dataset into the number of training/testing points above\n",
    "X_train, X_test, y_train, y_test = \\\n",
    "    train_test_split(X_all, y_all, test_size=num_test, random_state=354,  stratify=y_all)\n",
    "\n",
    "# Show the results of the split\n",
    "print \"Training set has {} samples.\".format(X_train.shape[0])\n",
    "print \"Testing set has {} samples.\".format(X_test.shape[0])"
   ]
  },
  {
   "cell_type": "code",
   "execution_count": 6,
   "metadata": {
    "collapsed": false,
    "scrolled": true
   },
   "outputs": [
    {
     "name": "stdout",
     "output_type": "stream",
     "text": [
      "proportions in entire data set\n",
      "yes    0.670886\n",
      "no     0.329114\n",
      "Name: passed, dtype: float64\n",
      "proportions in training data\n",
      "no     0.33\n",
      "yes    0.67\n",
      "Name: passed, dtype: float64\n",
      "proportions in test data\n",
      "no     0.326316\n",
      "yes    0.673684\n",
      "Name: passed, dtype: float64\n"
     ]
    }
   ],
   "source": [
    "# Checking proportion of each Class in train and test sets\n",
    "print \"proportions in entire data set\"\n",
    "print y_all.value_counts(sort=False, dropna=False, normalize=True)\n",
    "print \"proportions in training data\"\n",
    "print y_train.value_counts(sort=False, dropna=False, normalize=True)\n",
    "print \"proportions in test data\"\n",
    "print y_test.value_counts(sort=False, dropna=False, normalize=True)"
   ]
  },
  {
   "cell_type": "markdown",
   "metadata": {},
   "source": [
    "We can see that the proportions are preserved in the splits"
   ]
  },
  {
   "cell_type": "markdown",
   "metadata": {},
   "source": [
    "## Training and Evaluating Models\n",
    "In this section, you will choose 3 supervised learning models that are appropriate for this problem and available in `scikit-learn`. You will first discuss the reasoning behind choosing these three models by considering what you know about the data and each model's strengths and weaknesses. You will then fit the model to varying sizes of training data (100 data points, 200 data points, and 300 data points) and measure the F<sub>1</sub> score. You will need to produce three tables (one for each model) that shows the training set size, training time, prediction time, F<sub>1</sub> score on the training set, and F<sub>1</sub> score on the testing set."
   ]
  },
  {
   "cell_type": "markdown",
   "metadata": {},
   "source": [
    "### Question 2 - Model Application\n",
    "*List three supervised learning models that are appropriate for this problem. What are the general applications of each model? What are their strengths and weaknesses? Given what you know about the data, why did you choose these models to be applied?*"
   ]
  },
  {
   "cell_type": "markdown",
   "metadata": {},
   "source": [
    "**Answer: **  For this task we can look at a few different learning algorithms to explore which one will perform best. The three learning algorithms that will be considered are `Naive Bayes`, `Random Forrests` and `Support Vector Machines` (`SVMs`). These algorithms were chosen based on the fact that they can often give good results for classification tasks, and with the consideration that this is a relatively small dataset.\n",
    "\n",
    "`Naive Bayes` has the advantage that it is a very simple algorithm, so it should train very quickly, and should make very quick predictions too. However one of its weaknesses is that it makes a strong assumption that all the input features are completely independent of each other. While it is common for different variables to interact with each other, this algorithm can often still provide god results.\n",
    "\n",
    "`Random Forrests` can be though of as taking advantage of the *\"collective wisdom\"* of a bunch of other classifiers known as `Decision Trees`. Each individual decision tree can create very complex and jagged decision boundaries which tend to overfit to the training data quite easily, especially for small datasets. This creates a high variance problem where the classifier appears to perfrom well on the training data, but perform much more poorly on new data. Random Forrests mitigate this problem by taking advantage of the property that decision trees will overfit in *different* ways. Decision trees will create quite different decision boundaries when trained on different subsets of the data. While any one of the decision trees might have regions which misclassify items, not all of them will misclassify in the same way, so when you pool their predictions together and take a majority vote, you will get a more prediction than any one of the individual decision trees. The disadvantage of random forrests is that you have to train multiple decision trees, so there may be a computational overhead involved in training these extra models. \n",
    "\n",
    "\n",
    "`Support Vector Machines` (`SVMs`) have are quite capable of generating non-linear decision boundaries, and can achieve high accuracies. This algorithm can give good results even for small datasets, in fact they are only really useful for small to intermediate datasets since the training time scales quadratically with the number of training samples. As such SVMs become slow quite quickly as sample sizes increase. A further limitation is that prediction time scales not just as a function of the number of items being predicted upon, but also linearly with the number of samples used during the *training* phase. But with the small dataset we have got, SVMs should run within small enough time frames and the hope is that it will still produce good results. "
   ]
  },
  {
   "cell_type": "markdown",
   "metadata": {},
   "source": [
    "### Setup\n",
    "Run the code cell below to initialize three helper functions which you can use for training and testing the three supervised learning models you've chosen above. The functions are as follows:\n",
    "- `train_classifier` - takes as input a classifier and training data and fits the classifier to the data.\n",
    "- `predict_labels` - takes as input a fit classifier, features, and a target labeling and makes predictions using the F<sub>1</sub> score.\n",
    "- `train_predict` - takes as input a classifier, and the training and testing data, and performs `train_clasifier` and `predict_labels`.\n",
    " - This function will report the F<sub>1</sub> score for both the training and testing data separately."
   ]
  },
  {
   "cell_type": "code",
   "execution_count": 7,
   "metadata": {
    "collapsed": false
   },
   "outputs": [],
   "source": [
    "def train_classifier(clf, X_train, y_train):\n",
    "    ''' Fits a classifier to the training data. '''\n",
    "    \n",
    "    # Start the clock, train the classifier, then stop the clock\n",
    "    start = time()\n",
    "    clf.fit(X_train, y_train)\n",
    "    end = time()\n",
    "    \n",
    "    # Print the results\n",
    "    print \"Trained model in {:.4f} seconds\".format(end - start)\n",
    "\n",
    "    \n",
    "def predict_labels(clf, features, target):\n",
    "    ''' Makes predictions using a fit classifier based on F1 score. '''\n",
    "    \n",
    "    # Start the clock, make predictions, then stop the clock\n",
    "    start = time()\n",
    "    y_pred = clf.predict(features)\n",
    "    end = time()\n",
    "    \n",
    "    # Print and return results\n",
    "    print \"Made predictions in {:.4f} seconds.\".format(end - start)\n",
    "    return f1_score(target.values, y_pred, pos_label='yes')\n",
    "\n",
    "\n",
    "def train_predict(clf, X_train, y_train, X_test, y_test):\n",
    "    ''' Train and predict using a classifer based on F1 score. '''\n",
    "    \n",
    "    # Indicate the classifier and the training set size\n",
    "    print \"Training a {} using a training set size of {}. . .\".format(clf.__class__.__name__, len(X_train))\n",
    "    \n",
    "    # Train the classifier\n",
    "    train_classifier(clf, X_train, y_train)\n",
    "    \n",
    "    # Print the results of prediction for both training and testing\n",
    "    print \"F1 score for training set: {:.4f}.\".format(predict_labels(clf, X_train, y_train))\n",
    "    print \"F1 score for test set: {:.4f}.\".format(predict_labels(clf, X_test, y_test))"
   ]
  },
  {
   "cell_type": "markdown",
   "metadata": {},
   "source": [
    "### Implementation: Model Performance Metrics\n",
    "With the predefined functions above, you will now import the three supervised learning models of your choice and run the `train_predict` function for each one. Remember that you will need to train and predict on each classifier for three different training set sizes: 100, 200, and 300. Hence, you should expect to have 9 different outputs below — 3 for each model using the varying training set sizes. In the following code cell, you will need to implement the following:\n",
    "- Import the three supervised learning models you've discussed in the previous section.\n",
    "- Initialize the three models and store them in `clf_A`, `clf_B`, and `clf_C`.\n",
    " - Use a `random_state` for each model you use, if provided.\n",
    " - **Note:** Use the default settings for each model — you will tune one specific model in a later section.\n",
    "- Create the different training set sizes to be used to train each model.\n",
    " - *Do not reshuffle and resplit the data! The new training points should be drawn from `X_train` and `y_train`.*\n",
    "- Fit each model with each training set size and make predictions on the test set (9 in total).  \n",
    "**Note:** Three tables are provided after the following code cell which can be used to store your results."
   ]
  },
  {
   "cell_type": "code",
   "execution_count": 10,
   "metadata": {
    "collapsed": false
   },
   "outputs": [
    {
     "name": "stdout",
     "output_type": "stream",
     "text": [
      "====================================================================\n",
      "Naive Bayes using Multinomial Distribution\n",
      "====================================================================\n",
      "100\n",
      "Training a MultinomialNB using a training set size of 100. . .\n",
      "Trained model in 0.0018 seconds\n",
      "Made predictions in 0.0003 seconds.\n",
      "F1 score for training set: 0.8356.\n",
      "Made predictions in 0.0003 seconds.\n",
      "F1 score for test set: 0.7826.\n",
      "\n",
      "\n",
      "200\n",
      "Training a MultinomialNB using a training set size of 200. . .\n",
      "Trained model in 0.0017 seconds\n",
      "Made predictions in 0.0003 seconds.\n",
      "F1 score for training set: 0.7758.\n",
      "Made predictions in 0.0003 seconds.\n",
      "F1 score for test set: 0.7536.\n",
      "\n",
      "\n",
      "300\n",
      "Training a MultinomialNB using a training set size of 300. . .\n",
      "Trained model in 0.0019 seconds\n",
      "Made predictions in 0.0003 seconds.\n",
      "F1 score for training set: 0.7869.\n",
      "Made predictions in 0.0003 seconds.\n",
      "F1 score for test set: 0.7556.\n",
      "\n",
      "\n",
      "====================================================================\n",
      "Random Forrest\n",
      "====================================================================\n",
      "100\n",
      "Training a RandomForestClassifier using a training set size of 100. . .\n",
      "Trained model in 0.0287 seconds\n",
      "Made predictions in 0.0015 seconds.\n",
      "F1 score for training set: 1.0000.\n",
      "Made predictions in 0.0014 seconds.\n",
      "F1 score for test set: 0.7059.\n",
      "\n",
      "\n",
      "200\n",
      "Training a RandomForestClassifier using a training set size of 200. . .\n",
      "Trained model in 0.0253 seconds\n",
      "Made predictions in 0.0017 seconds.\n",
      "F1 score for training set: 0.9925.\n",
      "Made predictions in 0.0013 seconds.\n",
      "F1 score for test set: 0.7353.\n",
      "\n",
      "\n",
      "300\n",
      "Training a RandomForestClassifier using a training set size of 300. . .\n",
      "Trained model in 0.0237 seconds\n",
      "Made predictions in 0.0018 seconds.\n",
      "F1 score for training set: 0.9950.\n",
      "Made predictions in 0.0013 seconds.\n",
      "F1 score for test set: 0.7231.\n",
      "\n",
      "\n",
      "====================================================================\n",
      "Support Vector Machine\n",
      "====================================================================\n",
      "100\n",
      "Training a SVC using a training set size of 100. . .\n",
      "Trained model in 0.0017 seconds\n",
      "Made predictions in 0.0010 seconds.\n",
      "F1 score for training set: 0.8846.\n",
      "Made predictions in 0.0010 seconds.\n",
      "F1 score for test set: 0.8158.\n",
      "\n",
      "\n",
      "200\n",
      "Training a SVC using a training set size of 200. . .\n",
      "Trained model in 0.0048 seconds\n",
      "Made predictions in 0.0034 seconds.\n",
      "F1 score for training set: 0.8491.\n",
      "Made predictions in 0.0018 seconds.\n",
      "F1 score for test set: 0.8129.\n",
      "\n",
      "\n",
      "300\n",
      "Training a SVC using a training set size of 300. . .\n",
      "Trained model in 0.0097 seconds\n",
      "Made predictions in 0.0064 seconds.\n",
      "F1 score for training set: 0.8677.\n",
      "Made predictions in 0.0021 seconds.\n",
      "F1 score for test set: 0.8212.\n",
      "\n",
      "\n"
     ]
    }
   ],
   "source": [
    "# Import the three supervised learning models from sklearn\n",
    "from sklearn.ensemble import RandomForestClassifier\n",
    "from sklearn.svm import SVC\n",
    "from sklearn.naive_bayes import MultinomialNB\n",
    "\n",
    "# Random seed set for reproducibility of results\n",
    "random_seed = 321\n",
    "\n",
    "\n",
    "# Initialize the three models\n",
    "clf_A = MultinomialNB()\n",
    "clf_B = RandomForestClassifier(random_state=random_seed)\n",
    "clf_C = SVC(kernel=\"rbf\", random_state=random_seed)\n",
    "\n",
    "# Execute the 'train_predict' function for each classifier and training set size\n",
    "classifiers = [clf_A, clf_B, clf_C]\n",
    "classifier_names = [\"Naive Bayes using Multinomial Distribution\", \n",
    "                    \"Random Forrest\", \n",
    "                    \"Support Vector Machine\", \n",
    "                    ]\n",
    "sizes = [100, 200, 300]\n",
    "\n",
    "for i, classifier in enumerate(classifiers):\n",
    "    print \"====================================================================\"\n",
    "    print classifier_names[i]\n",
    "    print \"====================================================================\"\n",
    "    for size in sizes:\n",
    "        print size\n",
    "        train_predict(classifier, X_train.head(size), y_train.head(size),\n",
    "                      X_test, y_test)\n",
    "        print \"\\n\""
   ]
  },
  {
   "cell_type": "markdown",
   "metadata": {},
   "source": [
    "### Tabular Results\n",
    "Edit the cell below to see how a table can be designed in [Markdown](https://github.com/adam-p/markdown-here/wiki/Markdown-Cheatsheet#tables). You can record your results from above in the tables provided."
   ]
  },
  {
   "cell_type": "markdown",
   "metadata": {},
   "source": [
    "** Classifer 1 - Naive Bayes with Multinomial Distribution **  \n",
    "\n",
    "\n",
    "| Training Set Size | Training Time | Prediction Time (test) | F1 Score (train) | F1 Score (test) |\n",
    "| :---------------: | :---------------------: | :--------------------: | :--------------: | :-------------: |\n",
    "| 100 | 0.0018 | 0.0003 | 0.8356 | 0.7826 |\n",
    "| 200 | 0.0017 | 0.0003 | 0.7758 | 0.7536 |\n",
    "| 300 | 0.0019 | 0.0003 | 0.7869 | 0.7556 |\n",
    "\n",
    "** Classifer 1 - Random Forrest **  \n",
    "\n",
    "| Training Set Size | Training Time | Prediction Time (test) | F1 Score (train) | F1 Score (test) |\n",
    "| :---------------: | :---------------------: | :--------------------: | :--------------: | :-------------: |\n",
    "| 100 | 0.0287 | 0.0014 | 1.0 | 0.7059 |\n",
    "| 200 | 0.0253 | 0.0013 | 0.9925 | 0.7353 |\n",
    "| 300 | 0.0237 | 0.0013 | 0.9950 | 0.7231 |\n",
    "\n",
    "** Classifer 2 - Support Vector Machine **  \n",
    "\n",
    "| Training Set Size | Training Time | Prediction Time (test) | F1 Score (train) | F1 Score (test) |\n",
    "| :---------------: | :---------------------: | :--------------------: | :--------------: | :-------------: |\n",
    "| 100 | 0.0017 | 0.0010 | 0.8846 | 0.8158 |\n",
    "| 200 | 0.0048 | 0.0018 | 0.8491 | 0.8129 |\n",
    "| 300 | 0.0097 | 0.0021 | 0.8667 | 0.8212 |"
   ]
  },
  {
   "cell_type": "markdown",
   "metadata": {},
   "source": [
    "## Choosing the Best Model\n",
    "In this final section, you will choose from the three supervised learning models the *best* model to use on the student data. You will then perform a grid search optimization for the model over the entire training set (`X_train` and `y_train`) by tuning at least one parameter to improve upon the untuned model's F<sub>1</sub> score. "
   ]
  },
  {
   "cell_type": "markdown",
   "metadata": {},
   "source": [
    "### Question 3 - Chosing the Best Model\n",
    "*Based on the experiments you performed earlier, in one to two paragraphs, explain to the board of supervisors what single model you chose as the best model. Which model is generally the most appropriate based on the available data, limited resources, cost, and performance?*"
   ]
  },
  {
   "cell_type": "markdown",
   "metadata": {},
   "source": [
    "**Answer: ** \n",
    "\n",
    "Each of the algorithms considered were tested on a single core of a laptop capable of running at 2.20Ghz. Each algorithm was able to train on the data within a tiny fraction of a second. Predictions were all made within milliseconds (or a fraction of a millisecond) for close to 100 items being predicted in one go. The training phase only really needs to be run at most once or twice a year. Predictions would likely be run in batches, at most a few times a year. As such, none of these algorithms create much of a computational burden, even when you consider the accumulated usage. If computation is run locally, then energy costs are a factor. If computation is run on a clowd service such as Amazon EC2, then it is running time that is the cost factor (in hourly blocks). Shaving a tiny fraction of a second makes no significant difference to energy consumption, and no difference whatsoever for the cost of running it on a clowd service. As such, we can safely ignore training time and prediction time as a factor for deciding on one of these three algorithms, and concentrate exclusively on the F1 score. \n",
    "\n",
    "Naive Bayes is unlikely to get much better performance than what it is already achieving in this untuned model. There is high variance in the untuned Random Forrest model, but it is unclear roughly where performance may end up once we reduce this variance, only that it will likely be somewhere between 0.7 and 1.0. It is possible that it might just require more data in order to reduce that variance. SVM on the other hand is giving us a clear indication that we can expect low variance, and F1 performance somewhere within the range 0.8 and 0.85. As such, it seems that the most reasonable algorithm to explore further is the SVM. However, one caveat will be made. Compute time may become an issue if this algorithm is going to continue to be used further on into the future as more and more data from students over the years is collected. It is therefore recomended to make use of a subset of the data, giving preference to the most recent data. "
   ]
  },
  {
   "cell_type": "markdown",
   "metadata": {},
   "source": [
    "### Question 4 - Model in Layman's Terms\n",
    "*In one to two paragraphs, explain to the board of directors in layman's terms how the final model chosen is supposed to work. For example if you've chosen to use a decision tree or a support vector machine, how does the model go about making a prediction?*"
   ]
  },
  {
   "cell_type": "markdown",
   "metadata": {},
   "source": [
    "**Answer: ** \n",
    "We have a several pieces of information for each student, we call these *features*. Now imagine for instance that all the students are arranged in a large field, and the exact position in which they stand is determined by the values of these features. What we want is to create a topography that allows us to reliably identify where the students that passed or failed are standing, by separating them in some way. Support Vector Machines do this through what is known as a *kernel*. This kernel can be thought of as a way of creating small hills in this field. These hills are placed strategically, such that there are peaks in regions where there are lots of students that passed, and valleys in regions where there are more people that failed. If we fill up the region with a bit of water, we can create a visible boundary that allows us to easily identify regions where students that likely passed or failed are. We can then use this topography to make predictions on new student. Since the position the student stands on is determined by information about the student we can get ahead of time, we can see where they would be standing on this landscape. If the student is on dry elevated land, then we classify that student as more likely to pass. If the student is standing with feet in water, then we classify being more likely to fail. "
   ]
  },
  {
   "cell_type": "markdown",
   "metadata": {},
   "source": [
    "### Implementation: Model Tuning\n",
    "Fine tune the chosen model. Use grid search (`GridSearchCV`) with at least one important parameter tuned with at least 3 different values. You will need to use the entire training set for this. In the code cell below, you will need to implement the following:\n",
    "- Import [`sklearn.grid_search.gridSearchCV`](http://scikit-learn.org/stable/modules/generated/sklearn.grid_search.GridSearchCV.html) and [`sklearn.metrics.make_scorer`](http://scikit-learn.org/stable/modules/generated/sklearn.metrics.make_scorer.html).\n",
    "- Create a dictionary of parameters you wish to tune for the chosen model.\n",
    " - Example: `parameters = {'parameter' : [list of values]}`.\n",
    "- Initialize the classifier you've chosen and store it in `clf`.\n",
    "- Create the F<sub>1</sub> scoring function using `make_scorer` and store it in `f1_scorer`.\n",
    " - Set the `pos_label` parameter to the correct value!\n",
    "- Perform grid search on the classifier `clf` using `f1_scorer` as the scoring method, and store it in `grid_obj`.\n",
    "- Fit the grid search object to the training data (`X_train`, `y_train`), and store it in `grid_obj`."
   ]
  },
  {
   "cell_type": "code",
   "execution_count": 11,
   "metadata": {
    "collapsed": false
   },
   "outputs": [
    {
     "name": "stdout",
     "output_type": "stream",
     "text": [
      "Made predictions in 0.0036 seconds.\n",
      "Tuned model has a training F1 score of 0.8584.\n",
      "Made predictions in 0.0012 seconds.\n",
      "Tuned model has a testing F1 score of 0.8000.\n"
     ]
    }
   ],
   "source": [
    "from sklearn.grid_search import GridSearchCV\n",
    "from sklearn.metrics import make_scorer\n",
    "from sklearn.metrics import f1_score\n",
    "\n",
    "# Create the parameters list you wish to tune\n",
    "parameters = {\n",
    "    \"C\": [0.001, 0.005, 0.01, 0.05, 0.1, 0.3, 0.7, 1.0, 1.3, 1.7,  2.0],\n",
    "    \"kernel\": [\"rbf\", \"poly\", \"sigmoid\"],\n",
    "    \"gamma\":[\"auto\", 0.0001, 0.001, 0.01, 0.03, 0.07, 0.1, 0.3, 0.7, 1.0],\n",
    "    \"degree\": [2, 3] # degree for the polynomial kernel\n",
    "}\n",
    "\n",
    "# Initialize the classifier (explicitly specifying the seed for reproducibility)\n",
    "clf = SVC(kernel=\"rbf\", random_state=3729)\n",
    "\n",
    "# Make an f1 scoring function using 'make_scorer' \n",
    "f1_scorer = make_scorer(f1_score, greater_is_better=True, pos_label='yes')\n",
    "\n",
    "# Perform grid search on the classifier using the f1_scorer as the scoring method\n",
    "grid_obj = GridSearchCV(clf, parameters, scoring=f1_scorer, cv=10)\n",
    "\n",
    "# Fit the grid search object to the training data and find the optimal parameters\n",
    "grid_obj = grid_obj.fit(X_train, y_train)\n",
    "\n",
    "# Get the best classifier \n",
    "clf = grid_obj.best_estimator_\n",
    "\n",
    "# Report the final F1 score for training and testing after parameter tuning\n",
    "print \"Tuned model has a training F1 score of {:.4f}.\".format(predict_labels(clf, X_train, y_train))\n",
    "print \"Tuned model has a testing F1 score of {:.4f}.\".format(predict_labels(clf, X_test, y_test))"
   ]
  },
  {
   "cell_type": "code",
   "execution_count": 12,
   "metadata": {
    "collapsed": false
   },
   "outputs": [
    {
     "name": "stdout",
     "output_type": "stream",
     "text": [
      "\n",
      "Best Score During Cross Validation 0.821914603786\n"
     ]
    }
   ],
   "source": [
    "# Best Score during Cross Validation\n",
    "print \"\\nBest Score During Cross Validation\", grid_obj.best_score_"
   ]
  },
  {
   "cell_type": "code",
   "execution_count": 13,
   "metadata": {
    "collapsed": false
   },
   "outputs": [
    {
     "data": {
      "text/plain": [
       "{'C': 0.005, 'degree': 3, 'gamma': 0.03, 'kernel': 'poly'}"
      ]
     },
     "execution_count": 13,
     "metadata": {},
     "output_type": "execute_result"
    }
   ],
   "source": [
    "# The parameters that led to the best results\n",
    "grid_obj.best_params_"
   ]
  },
  {
   "cell_type": "markdown",
   "metadata": {},
   "source": [
    "### Question 5 - Final F<sub>1</sub> Score\n",
    "*What is the final model's F<sub>1</sub> score for training and testing? How does that score compare to the untuned model?*"
   ]
  },
  {
   "cell_type": "markdown",
   "metadata": {},
   "source": [
    "**Answer: ** The final model's F1 score for predictions made on the training data is 0.858, and 0.80 on the test set. This F1 value on the test set is smaller than what we got from the untuned model (0.821). However it does not mean that it is a worse model. Selecting the best tuned model was done using grid search with cross validation. The purpose of cross validation is to give a good idea about how well some model generalises to new unseen data. The final model was chosen on the basis that it is the one that is most likely to do well on new data. It didnt happen to perform as well on the *specific* test set that we set aside, but if we were to make predictions more predictions on other unseen data, we would have a greater likelihood of getting better results from the final tuned model than the first untuned model. "
   ]
  },
  {
   "cell_type": "markdown",
   "metadata": {},
   "source": [
    "> **Note**: Once you have completed all of the code implementations and successfully answered each question above, you may finalize your work by exporting the iPython Notebook as an HTML document. You can do this by using the menu above and navigating to  \n",
    "**File -> Download as -> HTML (.html)**. Include the finished document along with this notebook as your submission."
   ]
  }
 ],
 "metadata": {
  "kernelspec": {
   "display_name": "Python 2",
   "language": "python",
   "name": "python2"
  },
  "language_info": {
   "codemirror_mode": {
    "name": "ipython",
    "version": 2
   },
   "file_extension": ".py",
   "mimetype": "text/x-python",
   "name": "python",
   "nbconvert_exporter": "python",
   "pygments_lexer": "ipython2",
   "version": "2.7.6"
  },
  "nav_menu": {},
  "toc": {
   "navigate_menu": true,
   "number_sections": false,
   "sideBar": true,
   "threshold": 6,
   "toc_cell": false,
   "toc_section_display": "none",
   "toc_window_display": true
  },
  "toc_position": {
   "height": "484px",
   "left": "0px",
   "right": "822px",
   "top": "107px",
   "width": "149px"
  }
 },
 "nbformat": 4,
 "nbformat_minor": 0
}
